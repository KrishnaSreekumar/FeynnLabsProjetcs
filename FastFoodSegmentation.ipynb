{
  "nbformat": 4,
  "nbformat_minor": 0,
  "metadata": {
    "colab": {
      "provenance": [],
      "authorship_tag": "ABX9TyNyC30NYOFfYUhWvE93ndnE",
      "include_colab_link": true
    },
    "kernelspec": {
      "name": "python3",
      "display_name": "Python 3"
    },
    "language_info": {
      "name": "python"
    }
  },
  "cells": [
    {
      "cell_type": "markdown",
      "metadata": {
        "id": "view-in-github",
        "colab_type": "text"
      },
      "source": [
        "<a href=\"https://colab.research.google.com/github/KrishnaSreekumar/FeynnLabsProjetcs/blob/main/FastFoodSegmentation.ipynb\" target=\"_parent\"><img src=\"https://colab.research.google.com/assets/colab-badge.svg\" alt=\"Open In Colab\"/></a>"
      ]
    },
    {
      "cell_type": "markdown",
      "source": [
        "McDonalds Case Study"
      ],
      "metadata": {
        "id": "N2aRLB9OXFiV"
      }
    },
    {
      "cell_type": "markdown",
      "source": [
        "Step 1: Deciding (not) to segment\n",
        "\n",
        "\n",
        "McDonalds is a leading fastfood company that caters to a wide market. It is important for them to cater to different needs of different groups of people."
      ],
      "metadata": {
        "id": "NtwSPW0_ZJJ0"
      }
    },
    {
      "cell_type": "markdown",
      "source": [
        "Step 2: Specifying the Ideal Target Segment\n",
        "\n",
        "the following attractiveness criteria will be used: liking McDonald’s and frequently eating at McDonald’s"
      ],
      "metadata": {
        "id": "4usRkJESan88"
      }
    },
    {
      "cell_type": "markdown",
      "source": [
        "Step 3: Collecting Data\n",
        "\n",
        "Attributes: YUMMY, CONVENIENT, SPICY, FATTENING, GREASY, FAST, CHEAP, TASTY, EXPENSIVE, HEALTHY, and DISGUSTING.\n",
        "\n"
      ],
      "metadata": {
        "id": "VYk7BEOCa6VS"
      }
    },
    {
      "cell_type": "markdown",
      "source": [
        "Step 4:\n",
        "\n",
        "Exploring Data"
      ],
      "metadata": {
        "id": "DQCTmjSBfNUF"
      }
    },
    {
      "cell_type": "code",
      "execution_count": 52,
      "metadata": {
        "id": "nOuVxI4sWzrF"
      },
      "outputs": [],
      "source": [
        "import numpy as np \n",
        "import pandas as pd\n",
        "import matplotlib.pyplot as plt \n",
        "import seaborn as sns \n",
        "import plotly as py\n",
        "import plotly.graph_objs as go\n",
        "from sklearn.cluster import KMeans\n",
        "from scipy.spatial.distance import cdist\n",
        "from sklearn.decomposition import PCA\n",
        "from sklearn.utils import resample\n",
        "from sklearn.metrics import adjusted_rand_score\n",
        "from scipy.spatial.distance import pdist\n",
        "from statsmodels.graphics.mosaicplot import mosaic\n",
        "from itertools import product\n",
        "from scipy.cluster.hierarchy import linkage\n",
        "import seaborn as sns\n",
        "from sklearn import preprocessing"
      ]
    },
    {
      "cell_type": "code",
      "source": [
        "mcd = pd.read_csv('/mcdonalds.csv')"
      ],
      "metadata": {
        "id": "fEWSJmiQfPKc"
      },
      "execution_count": 30,
      "outputs": []
    },
    {
      "cell_type": "code",
      "source": [
        "#dim() in R is shape in Python Pandas\n",
        "mcd.shape"
      ],
      "metadata": {
        "colab": {
          "base_uri": "https://localhost:8080/"
        },
        "id": "D14-9IhJflum",
        "outputId": "037886c6-5ca4-47c6-82f7-f8f3e2ede733"
      },
      "execution_count": 5,
      "outputs": [
        {
          "output_type": "execute_result",
          "data": {
            "text/plain": [
              "(1453, 15)"
            ]
          },
          "metadata": {},
          "execution_count": 5
        }
      ]
    },
    {
      "cell_type": "markdown",
      "source": [],
      "metadata": {
        "id": "RhrfVM1r5A0k"
      }
    },
    {
      "cell_type": "code",
      "source": [
        "mcd.head(3)"
      ],
      "metadata": {
        "colab": {
          "base_uri": "https://localhost:8080/",
          "height": 143
        },
        "id": "WAZ7IVLsDE21",
        "outputId": "2872283f-9fb5-4a51-806a-c4fba255b0c4"
      },
      "execution_count": 6,
      "outputs": [
        {
          "output_type": "execute_result",
          "data": {
            "text/plain": [
              "  yummy convenient spicy fattening greasy fast cheap tasty expensive healthy  \\\n",
              "0    No        Yes    No       Yes     No  Yes   Yes    No       Yes      No   \n",
              "1   Yes        Yes    No       Yes    Yes  Yes   Yes   Yes       Yes      No   \n",
              "2    No        Yes   Yes       Yes    Yes  Yes    No   Yes       Yes     Yes   \n",
              "\n",
              "  disgusting Like  Age      VisitFrequency  Gender  \n",
              "0         No   -3   61  Every three months  Female  \n",
              "1         No   +2   51  Every three months  Female  \n",
              "2         No   +1   62  Every three months  Female  "
            ],
            "text/html": [
              "\n",
              "  <div id=\"df-015c3557-fc5a-4a23-b8b6-182de7160e19\">\n",
              "    <div class=\"colab-df-container\">\n",
              "      <div>\n",
              "<style scoped>\n",
              "    .dataframe tbody tr th:only-of-type {\n",
              "        vertical-align: middle;\n",
              "    }\n",
              "\n",
              "    .dataframe tbody tr th {\n",
              "        vertical-align: top;\n",
              "    }\n",
              "\n",
              "    .dataframe thead th {\n",
              "        text-align: right;\n",
              "    }\n",
              "</style>\n",
              "<table border=\"1\" class=\"dataframe\">\n",
              "  <thead>\n",
              "    <tr style=\"text-align: right;\">\n",
              "      <th></th>\n",
              "      <th>yummy</th>\n",
              "      <th>convenient</th>\n",
              "      <th>spicy</th>\n",
              "      <th>fattening</th>\n",
              "      <th>greasy</th>\n",
              "      <th>fast</th>\n",
              "      <th>cheap</th>\n",
              "      <th>tasty</th>\n",
              "      <th>expensive</th>\n",
              "      <th>healthy</th>\n",
              "      <th>disgusting</th>\n",
              "      <th>Like</th>\n",
              "      <th>Age</th>\n",
              "      <th>VisitFrequency</th>\n",
              "      <th>Gender</th>\n",
              "    </tr>\n",
              "  </thead>\n",
              "  <tbody>\n",
              "    <tr>\n",
              "      <th>0</th>\n",
              "      <td>No</td>\n",
              "      <td>Yes</td>\n",
              "      <td>No</td>\n",
              "      <td>Yes</td>\n",
              "      <td>No</td>\n",
              "      <td>Yes</td>\n",
              "      <td>Yes</td>\n",
              "      <td>No</td>\n",
              "      <td>Yes</td>\n",
              "      <td>No</td>\n",
              "      <td>No</td>\n",
              "      <td>-3</td>\n",
              "      <td>61</td>\n",
              "      <td>Every three months</td>\n",
              "      <td>Female</td>\n",
              "    </tr>\n",
              "    <tr>\n",
              "      <th>1</th>\n",
              "      <td>Yes</td>\n",
              "      <td>Yes</td>\n",
              "      <td>No</td>\n",
              "      <td>Yes</td>\n",
              "      <td>Yes</td>\n",
              "      <td>Yes</td>\n",
              "      <td>Yes</td>\n",
              "      <td>Yes</td>\n",
              "      <td>Yes</td>\n",
              "      <td>No</td>\n",
              "      <td>No</td>\n",
              "      <td>+2</td>\n",
              "      <td>51</td>\n",
              "      <td>Every three months</td>\n",
              "      <td>Female</td>\n",
              "    </tr>\n",
              "    <tr>\n",
              "      <th>2</th>\n",
              "      <td>No</td>\n",
              "      <td>Yes</td>\n",
              "      <td>Yes</td>\n",
              "      <td>Yes</td>\n",
              "      <td>Yes</td>\n",
              "      <td>Yes</td>\n",
              "      <td>No</td>\n",
              "      <td>Yes</td>\n",
              "      <td>Yes</td>\n",
              "      <td>Yes</td>\n",
              "      <td>No</td>\n",
              "      <td>+1</td>\n",
              "      <td>62</td>\n",
              "      <td>Every three months</td>\n",
              "      <td>Female</td>\n",
              "    </tr>\n",
              "  </tbody>\n",
              "</table>\n",
              "</div>\n",
              "      <button class=\"colab-df-convert\" onclick=\"convertToInteractive('df-015c3557-fc5a-4a23-b8b6-182de7160e19')\"\n",
              "              title=\"Convert this dataframe to an interactive table.\"\n",
              "              style=\"display:none;\">\n",
              "        \n",
              "  <svg xmlns=\"http://www.w3.org/2000/svg\" height=\"24px\"viewBox=\"0 0 24 24\"\n",
              "       width=\"24px\">\n",
              "    <path d=\"M0 0h24v24H0V0z\" fill=\"none\"/>\n",
              "    <path d=\"M18.56 5.44l.94 2.06.94-2.06 2.06-.94-2.06-.94-.94-2.06-.94 2.06-2.06.94zm-11 1L8.5 8.5l.94-2.06 2.06-.94-2.06-.94L8.5 2.5l-.94 2.06-2.06.94zm10 10l.94 2.06.94-2.06 2.06-.94-2.06-.94-.94-2.06-.94 2.06-2.06.94z\"/><path d=\"M17.41 7.96l-1.37-1.37c-.4-.4-.92-.59-1.43-.59-.52 0-1.04.2-1.43.59L10.3 9.45l-7.72 7.72c-.78.78-.78 2.05 0 2.83L4 21.41c.39.39.9.59 1.41.59.51 0 1.02-.2 1.41-.59l7.78-7.78 2.81-2.81c.8-.78.8-2.07 0-2.86zM5.41 20L4 18.59l7.72-7.72 1.47 1.35L5.41 20z\"/>\n",
              "  </svg>\n",
              "      </button>\n",
              "      \n",
              "  <style>\n",
              "    .colab-df-container {\n",
              "      display:flex;\n",
              "      flex-wrap:wrap;\n",
              "      gap: 12px;\n",
              "    }\n",
              "\n",
              "    .colab-df-convert {\n",
              "      background-color: #E8F0FE;\n",
              "      border: none;\n",
              "      border-radius: 50%;\n",
              "      cursor: pointer;\n",
              "      display: none;\n",
              "      fill: #1967D2;\n",
              "      height: 32px;\n",
              "      padding: 0 0 0 0;\n",
              "      width: 32px;\n",
              "    }\n",
              "\n",
              "    .colab-df-convert:hover {\n",
              "      background-color: #E2EBFA;\n",
              "      box-shadow: 0px 1px 2px rgba(60, 64, 67, 0.3), 0px 1px 3px 1px rgba(60, 64, 67, 0.15);\n",
              "      fill: #174EA6;\n",
              "    }\n",
              "\n",
              "    [theme=dark] .colab-df-convert {\n",
              "      background-color: #3B4455;\n",
              "      fill: #D2E3FC;\n",
              "    }\n",
              "\n",
              "    [theme=dark] .colab-df-convert:hover {\n",
              "      background-color: #434B5C;\n",
              "      box-shadow: 0px 1px 3px 1px rgba(0, 0, 0, 0.15);\n",
              "      filter: drop-shadow(0px 1px 2px rgba(0, 0, 0, 0.3));\n",
              "      fill: #FFFFFF;\n",
              "    }\n",
              "  </style>\n",
              "\n",
              "      <script>\n",
              "        const buttonEl =\n",
              "          document.querySelector('#df-015c3557-fc5a-4a23-b8b6-182de7160e19 button.colab-df-convert');\n",
              "        buttonEl.style.display =\n",
              "          google.colab.kernel.accessAllowed ? 'block' : 'none';\n",
              "\n",
              "        async function convertToInteractive(key) {\n",
              "          const element = document.querySelector('#df-015c3557-fc5a-4a23-b8b6-182de7160e19');\n",
              "          const dataTable =\n",
              "            await google.colab.kernel.invokeFunction('convertToInteractive',\n",
              "                                                     [key], {});\n",
              "          if (!dataTable) return;\n",
              "\n",
              "          const docLinkHtml = 'Like what you see? Visit the ' +\n",
              "            '<a target=\"_blank\" href=https://colab.research.google.com/notebooks/data_table.ipynb>data table notebook</a>'\n",
              "            + ' to learn more about interactive tables.';\n",
              "          element.innerHTML = '';\n",
              "          dataTable['output_type'] = 'display_data';\n",
              "          await google.colab.output.renderOutput(dataTable, element);\n",
              "          const docLink = document.createElement('div');\n",
              "          docLink.innerHTML = docLinkHtml;\n",
              "          element.appendChild(docLink);\n",
              "        }\n",
              "      </script>\n",
              "    </div>\n",
              "  </div>\n",
              "  "
            ]
          },
          "metadata": {},
          "execution_count": 6
        }
      ]
    },
    {
      "cell_type": "markdown",
      "source": [
        "YES and NO is not a suitable format for segment extraction. We need numbers, not words. To get numbers, we store the segmentation variables in a separate matrix, and convert them from verbal YES/NO to numeric binary."
      ],
      "metadata": {
        "id": "-Fm3OS2pD0Gw"
      }
    },
    {
      "cell_type": "code",
      "source": [
        "Md_x = mcd.iloc[:, 0:11].values\n",
        "#iloc[:, 0:11] selects all rows (:) and the first 11 columns (0:11) of the mcdonalds data frame. \n",
        "#Then, the values attribute is used to convert the resulting data frame subset to a NumPy array, which can be used as a matrix in Python. \n",
        "#The resulting matrix is assigned to the variable MD_x."
      ],
      "metadata": {
        "id": "Pufm2LEuDjXw"
      },
      "execution_count": 9,
      "outputs": []
    },
    {
      "cell_type": "code",
      "source": [
        "Md_x = np.where(Md_x == \"Yes\", 1, 0)\n",
        "# np.where() function is used to replace all occurrences of \"Yes\" with 1 and \"No\" with 0 in the MD_x matrix. \n",
        "#The resulting binary matrix is then assigned back to the same variable MD_x."
      ],
      "metadata": {
        "id": "pma-bF_RzhGV"
      },
      "execution_count": 10,
      "outputs": []
    },
    {
      "cell_type": "code",
      "source": [
        "col_means = np.mean(Md_x, axis=0)\n",
        "col_means_rounded = np.round(col_means, 2)\n",
        "# np.mean() function is used to calculate the column means of the MD_x matrix along the axis=0. \n",
        "#The resulting column means are then rounded to two decimal places using the np.round() function with the decimals=2 argument. \n",
        "#The rounded column means are assigned to the variable col_means_rounded."
      ],
      "metadata": {
        "id": "jWvl8k3-zxEn"
      },
      "execution_count": 12,
      "outputs": []
    },
    {
      "cell_type": "code",
      "source": [
        "pca = PCA()\n",
        "Md_pca = pca.fit_transform(Md_x)\n",
        "#the PCA() function from the Scikit-learn library is used to create a PCA object. \n",
        "#Then, the fit_transform() method is used to fit the PCA model to the MD_x matrix and transform the data into the principal components.\n",
        "# The resulting transformed matrix is assigned to the variable MD_pca."
      ],
      "metadata": {
        "id": "_CBZ93UQ0UW9"
      },
      "execution_count": 14,
      "outputs": []
    },
    {
      "cell_type": "code",
      "source": [
        "print(pca.explained_variance_ratio_)"
      ],
      "metadata": {
        "colab": {
          "base_uri": "https://localhost:8080/"
        },
        "id": "tJSY4MuF0wVJ",
        "outputId": "a1272e97-dc43-4643-dece-369d1dc54de1"
      },
      "execution_count": 17,
      "outputs": [
        {
          "output_type": "stream",
          "name": "stdout",
          "text": [
            "[0.29944723 0.19279721 0.13304535 0.08309578 0.05948052 0.05029956\n",
            " 0.0438491  0.03954779 0.0367609  0.03235329 0.02932326]\n"
          ]
        }
      ]
    },
    {
      "cell_type": "code",
      "source": [
        "print(np.around(pca.components_, decimals=1))"
      ],
      "metadata": {
        "colab": {
          "base_uri": "https://localhost:8080/"
        },
        "id": "CH8dEVI609KI",
        "outputId": "ea0c3029-2b0a-4004-d4b1-f89f674895eb"
      },
      "execution_count": 18,
      "outputs": [
        {
          "output_type": "stream",
          "name": "stdout",
          "text": [
            "[[-0.5 -0.2 -0.   0.1  0.3 -0.1 -0.3 -0.5  0.3 -0.2  0.4]\n",
            " [ 0.4  0.   0.  -0.  -0.1 -0.1 -0.6  0.3  0.6  0.1 -0.1]\n",
            " [-0.3 -0.1 -0.  -0.3 -0.8 -0.1 -0.1 -0.3  0.   0.2 -0.1]\n",
            " [ 0.1 -0.1  0.2 -0.4  0.3 -0.1  0.1 -0.   0.1  0.8  0.4]\n",
            " [-0.3  0.3  0.1 -0.1  0.4  0.1 -0.1 -0.2 -0.   0.3 -0.7]\n",
            " [ 0.2 -0.3 -0.4 -0.4  0.2 -0.6 -0.1 -0.1 -0.3 -0.2 -0.2]\n",
            " [-0.3 -0.1  0.7 -0.4  0.  -0.1 -0.   0.4 -0.1 -0.3 -0. ]\n",
            " [ 0.  -0.1  0.4  0.6 -0.1 -0.6  0.1 -0.1  0.   0.2 -0.2]\n",
            " [ 0.6 -0.   0.4 -0.2 -0.   0.2  0.1 -0.6  0.1 -0.2 -0.1]\n",
            " [-0.1 -0.7 -0.1 -0.   0.   0.2  0.4  0.1  0.5 -0.  -0.3]\n",
            " [ 0.  -0.5  0.1  0.3  0.   0.3 -0.5  0.  -0.5  0.2 -0. ]]\n"
          ]
        }
      ]
    },
    {
      "cell_type": "code",
      "source": [
        "np.random.seed(1234)\n",
        "\n",
        "inertia = []\n",
        "for k in range(2, 9):\n",
        "    kmeans = KMeans(n_clusters=k, n_init=10)\n",
        "    kmeans.fit(Md_x)\n",
        "    inertia.append(kmeans.inertia_)\n",
        "\n",
        "# Plot the elbow curve to determine the optimal number of clusters\n",
        "\n",
        "plt.plot(range(2, 9), inertia, marker='o')\n",
        "plt.xlabel('Number of clusters')\n",
        "plt.ylabel('Inertia')\n",
        "plt.show()\n",
        "\n",
        "# Cluster the data using the optimal number of clusters\n",
        "n_clusters = 3 # Example\n",
        "kmeans = KMeans(n_clusters=n_clusters, n_init=10)\n",
        "kmeans.fit(Md_x)\n",
        "labels = kmeans.labels_\n",
        "\n",
        "# Relabel the clusters\n",
        "unique_labels = np.unique(labels)\n",
        "for i, label in enumerate(unique_labels):\n",
        "    labels[labels == label] = i\n"
      ],
      "metadata": {
        "colab": {
          "base_uri": "https://localhost:8080/",
          "height": 449
        },
        "id": "J-uCptcU1UKb",
        "outputId": "81e9d80f-6347-443c-b17d-608d11e60df0"
      },
      "execution_count": 22,
      "outputs": [
        {
          "output_type": "display_data",
          "data": {
            "text/plain": [
              "<Figure size 640x480 with 1 Axes>"
            ],
            "image/png": "[encoded data removed]"
          },
          "metadata": {}
        }
      ]
    },
    {
      "cell_type": "code",
      "source": [
        "np.random.seed(1234)\n",
        "\n",
        "n_bootstraps = 100\n",
        "inertia_dict = {}\n",
        "\n",
        "for k in range(2, 9):\n",
        "    kmeans = KMeans(n_clusters=k, n_init=10)\n",
        "    kmeans.fit(Md_x)\n",
        "    inertia_dict[k] = kmeans.inertia_\n",
        "\n",
        "ari_dict = {}\n",
        "for bootstrap in range(n_bootstraps):\n",
        "    # Generate a bootstrap sample of the data\n",
        "    bootstrap_sample = resample(Md_x, replace=True, random_state=bootstrap)\n",
        "\n",
        "    for k in range(2, 9):\n",
        "        kmeans = KMeans(n_clusters=k, n_init=10)\n",
        "        kmeans.fit(bootstrap_sample)\n",
        "        labels_pred = kmeans.labels_\n",
        "        labels_true = kmeans.predict(Md_x)\n",
        "\n",
        "        # Calculate the adjusted Rand index\n",
        "        ari = adjusted_rand_score(labels_true, labels_pred)\n",
        "\n",
        "        if k not in ari_dict:\n",
        "            ari_dict[k] = [ari]\n",
        "        else:\n",
        "            ari_dict[k].append(ari)\n",
        "\n",
        "# Plot the results\n",
        "plt.figure()\n",
        "for k in range(2, 9):\n",
        "    plt.plot(k, np.mean(ari_dict[k]), 'o', color='black')\n",
        "    plt.plot([k, k], [np.min(ari_dict[k]), np.max(ari_dict[k])], '-', color='grey')\n",
        "plt.xlabel(\"Number of segments\")\n",
        "plt.ylabel(\"Adjusted Rand index\")\n",
        "plt.show()"
      ],
      "metadata": {
        "colab": {
          "base_uri": "https://localhost:8080/",
          "height": 449
        },
        "id": "chv6o1pV2ppY",
        "outputId": "2264b773-b3e1-49bf-f705-44100b0251cd"
      },
      "execution_count": 26,
      "outputs": [
        {
          "output_type": "display_data",
          "data": {
            "text/plain": [
              "<Figure size 640x480 with 1 Axes>"
            ],
            "image/png": "[encoded data removed]"
          },
          "metadata": {}
        }
      ]
    },
    {
      "cell_type": "code",
      "source": [
        "MD_vclust = linkage(pdist(Md_x.T))"
      ],
      "metadata": {
        "id": "1OgWInNw29qq"
      },
      "execution_count": 28,
      "outputs": []
    },
    {
      "cell_type": "code",
      "source": [
        "def wss(X, k):\n",
        "    kmeans = KMeans(n_clusters=k, n_init=10, random_state=1234)\n",
        "    kmeans.fit(X)\n",
        "    return sum(np.min(cdist(X, kmeans.cluster_centers_, 'euclidean'), axis=1))**2\n",
        "\n",
        "# Apply K-means clustering to MD_x for 2 to 8 clusters\n",
        "k_range = range(2, 9)\n",
        "wss_scores = [wss(Md_x, k) for k in k_range]\n",
        "\n",
        "# Find the number of clusters with the smallest within-cluster sum of squares\n",
        "n_clusters = np.argmin(wss_scores) + 2\n",
        "\n",
        "# Compute the K-means clustering with the optimal number of clusters\n",
        "kmeans = KMeans(n_clusters=n_clusters, n_init=10, random_state=1234)\n",
        "kmeans.fit(Md_x)\n",
        "\n",
        "# Relabel the clustering results\n",
        "MD_k28 = kmeans.labels_\n"
      ],
      "metadata": {
        "id": "7TOGFkMv6Ep4"
      },
      "execution_count": 34,
      "outputs": []
    },
    {
      "cell_type": "code",
      "source": [
        "plt.rcParams['figure.figsize'] = (25, 8)\n",
        "plot = sns.countplot(x=mcd['Age'],palette = 'Set1')\n",
        "plot.bar_label(plot.containers[0])\n",
        "plt.grid(True)\n",
        "plt.title('Age distribution of customers')\n",
        "plt.show()"
      ],
      "metadata": {
        "colab": {
          "base_uri": "https://localhost:8080/",
          "height": 503
        },
        "id": "_ufKiZZEBJVB",
        "outputId": "95c9a839-b74c-412b-eea7-576478a27357"
      },
      "execution_count": 43,
      "outputs": [
        {
          "output_type": "display_data",
          "data": {
            "text/plain": [
              "<Figure size 2500x800 with 1 Axes>"
            ],
            "image/png": "[encoded data removed]"
          },
          "metadata": {}
        }
      ]
    },
    {
      "cell_type": "markdown",
      "source": [],
      "metadata": {
        "id": "0QwJq55tBdVl"
      }
    },
    {
      "cell_type": "code",
      "source": [
        "pca_data = preprocessing.scale(Md_x)\n",
        "\n",
        "pca = PCA(n_components=11)\n",
        "pc = pca.fit_transform(Md_x)\n",
        "names = ['PC1','PC2','PC3','PC4','PC5','PC6','PC7','PC8','PC9','PC10','PC11']\n",
        "pf = pd.DataFrame(data = pc, columns = names)\n",
        "round(pf,3)\n",
        "\n",
        "kmeans = KMeans(n_clusters=4, init='k-means++', random_state=0).fit(Md_x)\n",
        "mcd['cluster_num'] = kmeans.labels_ \n",
        "print (kmeans.labels_) \n",
        "print (kmeans.inertia_) \n",
        "print(kmeans.n_iter_) \n",
        "print(kmeans.cluster_centers_) "
      ],
      "metadata": {
        "colab": {
          "base_uri": "https://localhost:8080/"
        },
        "id": "2qsdgtAqBfAv",
        "outputId": "51764a38-e7c5-42c9-ef38-b14c9f5e11f2"
      },
      "execution_count": 54,
      "outputs": [
        {
          "output_type": "stream",
          "name": "stderr",
          "text": [
            "/usr/local/lib/python3.9/dist-packages/sklearn/cluster/_kmeans.py:870: FutureWarning: The default value of `n_init` will change from 10 to 'auto' in 1.4. Set the value of `n_init` explicitly to suppress the warning\n",
            "  warnings.warn(\n"
          ]
        },
        {
          "output_type": "stream",
          "name": "stdout",
          "text": [
            "[2 0 0 ... 0 1 3]\n",
            "1603.0604440558923\n",
            "7\n",
            "[[0.85448916 0.9628483  0.13312693 0.90712074 0.61919505 0.86068111\n",
            "  0.10835913 0.93188854 0.89783282 0.20433437 0.10526316]\n",
            " [0.88793103 0.98103448 0.0862069  0.79482759 0.32931034 0.96034483\n",
            "  0.92241379 0.97586207 0.01724138 0.32068966 0.04310345]\n",
            " [0.02302632 0.89144737 0.07236842 0.92434211 0.66776316 0.96381579\n",
            "  0.93421053 0.15460526 0.01315789 0.07236842 0.38815789]\n",
            " [0.0203252  0.68292683 0.08536585 0.91463415 0.69512195 0.73170732\n",
            "  0.06504065 0.08943089 0.87804878 0.06097561 0.71544715]]\n"
          ]
        }
      ]
    },
    {
      "cell_type": "code",
      "source": [
        "k_range = range(2, 9)\n",
        "\n",
        "# Plot the within-cluster sum of squares as a function of the number of clusters\n",
        "plt.plot(k_range, wss_scores, 'bx-')\n",
        "plt.xlabel('number of clusters')\n",
        "plt.ylabel('within-cluster sum of squares')\n",
        "plt.title('Elbow Method')\n",
        "plt.show()"
      ],
      "metadata": {
        "colab": {
          "base_uri": "https://localhost:8080/",
          "height": 472
        },
        "id": "XMkA--qz678G",
        "outputId": "4484293d-7d95-4202-f413-3802718a902b"
      },
      "execution_count": 37,
      "outputs": [
        {
          "output_type": "display_data",
          "data": {
            "text/plain": [
              "<Figure size 640x480 with 1 Axes>"
            ],
            "image/png": "[encoded data removed]"
          },
          "metadata": {}
        }
      ]
    },
    {
      "cell_type": "code",
      "source": [
        "crosstab =pd.crosstab(mcd['cluster_num'],mcd['Like'])\n",
        "crosstab = crosstab[['-4','-3','-2','-1','0','+1','+2','+3','+4']]\n",
        "crosstab "
      ],
      "metadata": {
        "colab": {
          "base_uri": "https://localhost:8080/",
          "height": 206
        },
        "id": "qRUTPQ-88-5S",
        "outputId": "406b406c-7de4-444a-fef3-f682ae02a3da"
      },
      "execution_count": 56,
      "outputs": [
        {
          "output_type": "execute_result",
          "data": {
            "text/plain": [
              "Like         -4  -3  -2  -1   0  +1  +2   +3   +4\n",
              "cluster_num                                      \n",
              "0             3   7   6   7  36  42  60   66   47\n",
              "1             4   2   6  13  43  65  90  143  111\n",
              "2            36  34  28  25  51  31  31   12    2\n",
              "3            28  30  19  13  39  14   6    8    0"
            ],
            "text/html": [
              "\n",
              "  <div id=\"df-c18ed6e1-f8ea-4846-acb4-efb90616ac36\">\n",
              "    <div class=\"colab-df-container\">\n",
              "      <div>\n",
              "<style scoped>\n",
              "    .dataframe tbody tr th:only-of-type {\n",
              "        vertical-align: middle;\n",
              "    }\n",
              "\n",
              "    .dataframe tbody tr th {\n",
              "        vertical-align: top;\n",
              "    }\n",
              "\n",
              "    .dataframe thead th {\n",
              "        text-align: right;\n",
              "    }\n",
              "</style>\n",
              "<table border=\"1\" class=\"dataframe\">\n",
              "  <thead>\n",
              "    <tr style=\"text-align: right;\">\n",
              "      <th>Like</th>\n",
              "      <th>-4</th>\n",
              "      <th>-3</th>\n",
              "      <th>-2</th>\n",
              "      <th>-1</th>\n",
              "      <th>0</th>\n",
              "      <th>+1</th>\n",
              "      <th>+2</th>\n",
              "      <th>+3</th>\n",
              "      <th>+4</th>\n",
              "    </tr>\n",
              "    <tr>\n",
              "      <th>cluster_num</th>\n",
              "      <th></th>\n",
              "      <th></th>\n",
              "      <th></th>\n",
              "      <th></th>\n",
              "      <th></th>\n",
              "      <th></th>\n",
              "      <th></th>\n",
              "      <th></th>\n",
              "      <th></th>\n",
              "    </tr>\n",
              "  </thead>\n",
              "  <tbody>\n",
              "    <tr>\n",
              "      <th>0</th>\n",
              "      <td>3</td>\n",
              "      <td>7</td>\n",
              "      <td>6</td>\n",
              "      <td>7</td>\n",
              "      <td>36</td>\n",
              "      <td>42</td>\n",
              "      <td>60</td>\n",
              "      <td>66</td>\n",
              "      <td>47</td>\n",
              "    </tr>\n",
              "    <tr>\n",
              "      <th>1</th>\n",
              "      <td>4</td>\n",
              "      <td>2</td>\n",
              "      <td>6</td>\n",
              "      <td>13</td>\n",
              "      <td>43</td>\n",
              "      <td>65</td>\n",
              "      <td>90</td>\n",
              "      <td>143</td>\n",
              "      <td>111</td>\n",
              "    </tr>\n",
              "    <tr>\n",
              "      <th>2</th>\n",
              "      <td>36</td>\n",
              "      <td>34</td>\n",
              "      <td>28</td>\n",
              "      <td>25</td>\n",
              "      <td>51</td>\n",
              "      <td>31</td>\n",
              "      <td>31</td>\n",
              "      <td>12</td>\n",
              "      <td>2</td>\n",
              "    </tr>\n",
              "    <tr>\n",
              "      <th>3</th>\n",
              "      <td>28</td>\n",
              "      <td>30</td>\n",
              "      <td>19</td>\n",
              "      <td>13</td>\n",
              "      <td>39</td>\n",
              "      <td>14</td>\n",
              "      <td>6</td>\n",
              "      <td>8</td>\n",
              "      <td>0</td>\n",
              "    </tr>\n",
              "  </tbody>\n",
              "</table>\n",
              "</div>\n",
              "      <button class=\"colab-df-convert\" onclick=\"convertToInteractive('df-c18ed6e1-f8ea-4846-acb4-efb90616ac36')\"\n",
              "              title=\"Convert this dataframe to an interactive table.\"\n",
              "              style=\"display:none;\">\n",
              "        \n",
              "  <svg xmlns=\"http://www.w3.org/2000/svg\" height=\"24px\"viewBox=\"0 0 24 24\"\n",
              "       width=\"24px\">\n",
              "    <path d=\"M0 0h24v24H0V0z\" fill=\"none\"/>\n",
              "    <path d=\"M18.56 5.44l.94 2.06.94-2.06 2.06-.94-2.06-.94-.94-2.06-.94 2.06-2.06.94zm-11 1L8.5 8.5l.94-2.06 2.06-.94-2.06-.94L8.5 2.5l-.94 2.06-2.06.94zm10 10l.94 2.06.94-2.06 2.06-.94-2.06-.94-.94-2.06-.94 2.06-2.06.94z\"/><path d=\"M17.41 7.96l-1.37-1.37c-.4-.4-.92-.59-1.43-.59-.52 0-1.04.2-1.43.59L10.3 9.45l-7.72 7.72c-.78.78-.78 2.05 0 2.83L4 21.41c.39.39.9.59 1.41.59.51 0 1.02-.2 1.41-.59l7.78-7.78 2.81-2.81c.8-.78.8-2.07 0-2.86zM5.41 20L4 18.59l7.72-7.72 1.47 1.35L5.41 20z\"/>\n",
              "  </svg>\n",
              "      </button>\n",
              "      \n",
              "  <style>\n",
              "    .colab-df-container {\n",
              "      display:flex;\n",
              "      flex-wrap:wrap;\n",
              "      gap: 12px;\n",
              "    }\n",
              "\n",
              "    .colab-df-convert {\n",
              "      background-color: #E8F0FE;\n",
              "      border: none;\n",
              "      border-radius: 50%;\n",
              "      cursor: pointer;\n",
              "      display: none;\n",
              "      fill: #1967D2;\n",
              "      height: 32px;\n",
              "      padding: 0 0 0 0;\n",
              "      width: 32px;\n",
              "    }\n",
              "\n",
              "    .colab-df-convert:hover {\n",
              "      background-color: #E2EBFA;\n",
              "      box-shadow: 0px 1px 2px rgba(60, 64, 67, 0.3), 0px 1px 3px 1px rgba(60, 64, 67, 0.15);\n",
              "      fill: #174EA6;\n",
              "    }\n",
              "\n",
              "    [theme=dark] .colab-df-convert {\n",
              "      background-color: #3B4455;\n",
              "      fill: #D2E3FC;\n",
              "    }\n",
              "\n",
              "    [theme=dark] .colab-df-convert:hover {\n",
              "      background-color: #434B5C;\n",
              "      box-shadow: 0px 1px 3px 1px rgba(0, 0, 0, 0.15);\n",
              "      filter: drop-shadow(0px 1px 2px rgba(0, 0, 0, 0.3));\n",
              "      fill: #FFFFFF;\n",
              "    }\n",
              "  </style>\n",
              "\n",
              "      <script>\n",
              "        const buttonEl =\n",
              "          document.querySelector('#df-c18ed6e1-f8ea-4846-acb4-efb90616ac36 button.colab-df-convert');\n",
              "        buttonEl.style.display =\n",
              "          google.colab.kernel.accessAllowed ? 'block' : 'none';\n",
              "\n",
              "        async function convertToInteractive(key) {\n",
              "          const element = document.querySelector('#df-c18ed6e1-f8ea-4846-acb4-efb90616ac36');\n",
              "          const dataTable =\n",
              "            await google.colab.kernel.invokeFunction('convertToInteractive',\n",
              "                                                     [key], {});\n",
              "          if (!dataTable) return;\n",
              "\n",
              "          const docLinkHtml = 'Like what you see? Visit the ' +\n",
              "            '<a target=\"_blank\" href=https://colab.research.google.com/notebooks/data_table.ipynb>data table notebook</a>'\n",
              "            + ' to learn more about interactive tables.';\n",
              "          element.innerHTML = '';\n",
              "          dataTable['output_type'] = 'display_data';\n",
              "          await google.colab.output.renderOutput(dataTable, element);\n",
              "          const docLink = document.createElement('div');\n",
              "          docLink.innerHTML = docLinkHtml;\n",
              "          element.appendChild(docLink);\n",
              "        }\n",
              "      </script>\n",
              "    </div>\n",
              "  </div>\n",
              "  "
            ]
          },
          "metadata": {},
          "execution_count": 56
        }
      ]
    },
    {
      "cell_type": "code",
      "source": [],
      "metadata": {
        "id": "UlBzBc4M-NY4"
      },
      "execution_count": null,
      "outputs": []
    }
  ]
}